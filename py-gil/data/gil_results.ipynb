{
 "cells": [
  {
   "cell_type": "markdown",
   "metadata": {},
   "source": [
    "# Imports"
   ]
  },
  {
   "cell_type": "code",
   "execution_count": 1,
   "metadata": {},
   "outputs": [],
   "source": [
    "import pandas as pd\n",
    "import matplotlib.pyplot as plt\n",
    "import seaborn as sns"
   ]
  },
  {
   "cell_type": "markdown",
   "metadata": {},
   "source": [
    "## Setup graph properties"
   ]
  },
  {
   "cell_type": "code",
   "execution_count": 2,
   "metadata": {},
   "outputs": [],
   "source": [
    "# seaborn style\n",
    "sns.set(style=\"whitegrid\")"
   ]
  },
  {
   "cell_type": "code",
   "execution_count": 3,
   "metadata": {},
   "outputs": [],
   "source": [
    "# figure size\n",
    "figsize = (11, 8)"
   ]
  },
  {
   "cell_type": "markdown",
   "metadata": {},
   "source": [
    "# Load data"
   ]
  },
  {
   "cell_type": "code",
   "execution_count": 4,
   "metadata": {},
   "outputs": [],
   "source": [
    "data = pd.read_csv(\"gil_results.csv\")"
   ]
  },
  {
   "cell_type": "code",
   "execution_count": 5,
   "metadata": {},
   "outputs": [
    {
     "data": {
      "text/html": [
       "<div>\n",
       "<style scoped>\n",
       "    .dataframe tbody tr th:only-of-type {\n",
       "        vertical-align: middle;\n",
       "    }\n",
       "\n",
       "    .dataframe tbody tr th {\n",
       "        vertical-align: top;\n",
       "    }\n",
       "\n",
       "    .dataframe thead th {\n",
       "        text-align: right;\n",
       "    }\n",
       "</style>\n",
       "<table border=\"1\" class=\"dataframe\">\n",
       "  <thead>\n",
       "    <tr style=\"text-align: right;\">\n",
       "      <th></th>\n",
       "      <th>runs</th>\n",
       "      <th>std</th>\n",
       "      <th>T1</th>\n",
       "      <th>T2</th>\n",
       "      <th>T3</th>\n",
       "      <th>T4</th>\n",
       "      <th>T5</th>\n",
       "      <th>T6</th>\n",
       "      <th>T7</th>\n",
       "      <th>T8</th>\n",
       "      <th>...</th>\n",
       "      <th>MP1</th>\n",
       "      <th>MP2</th>\n",
       "      <th>MP3</th>\n",
       "      <th>MP4</th>\n",
       "      <th>MP5</th>\n",
       "      <th>MP6</th>\n",
       "      <th>MP7</th>\n",
       "      <th>MP8</th>\n",
       "      <th>MP9</th>\n",
       "      <th>MP10</th>\n",
       "    </tr>\n",
       "  </thead>\n",
       "  <tbody>\n",
       "    <tr>\n",
       "      <th>0</th>\n",
       "      <td>1</td>\n",
       "      <td>1408.83</td>\n",
       "      <td>1404.69</td>\n",
       "      <td>2015.74</td>\n",
       "      <td>1696.61</td>\n",
       "      <td>2046.63</td>\n",
       "      <td>1897.59</td>\n",
       "      <td>2070.27</td>\n",
       "      <td>2032.34</td>\n",
       "      <td>1990.65</td>\n",
       "      <td>...</td>\n",
       "      <td>1516.23</td>\n",
       "      <td>766.56</td>\n",
       "      <td>522.70</td>\n",
       "      <td>402.07</td>\n",
       "      <td>475.59</td>\n",
       "      <td>408.02</td>\n",
       "      <td>421.07</td>\n",
       "      <td>379.00</td>\n",
       "      <td>410.38</td>\n",
       "      <td>390.56</td>\n",
       "    </tr>\n",
       "    <tr>\n",
       "      <th>1</th>\n",
       "      <td>2</td>\n",
       "      <td>1453.42</td>\n",
       "      <td>1405.06</td>\n",
       "      <td>2051.65</td>\n",
       "      <td>1917.21</td>\n",
       "      <td>2076.34</td>\n",
       "      <td>2014.81</td>\n",
       "      <td>2101.55</td>\n",
       "      <td>2056.94</td>\n",
       "      <td>2072.35</td>\n",
       "      <td>...</td>\n",
       "      <td>1517.11</td>\n",
       "      <td>767.23</td>\n",
       "      <td>522.95</td>\n",
       "      <td>402.31</td>\n",
       "      <td>476.32</td>\n",
       "      <td>412.11</td>\n",
       "      <td>422.79</td>\n",
       "      <td>379.93</td>\n",
       "      <td>418.20</td>\n",
       "      <td>393.02</td>\n",
       "    </tr>\n",
       "    <tr>\n",
       "      <th>2</th>\n",
       "      <td>3</td>\n",
       "      <td>1408.01</td>\n",
       "      <td>1405.18</td>\n",
       "      <td>2100.43</td>\n",
       "      <td>1934.63</td>\n",
       "      <td>2083.95</td>\n",
       "      <td>2014.96</td>\n",
       "      <td>2112.30</td>\n",
       "      <td>2056.99</td>\n",
       "      <td>2089.52</td>\n",
       "      <td>...</td>\n",
       "      <td>1518.46</td>\n",
       "      <td>770.42</td>\n",
       "      <td>523.47</td>\n",
       "      <td>402.51</td>\n",
       "      <td>477.89</td>\n",
       "      <td>415.52</td>\n",
       "      <td>425.78</td>\n",
       "      <td>381.39</td>\n",
       "      <td>418.31</td>\n",
       "      <td>393.06</td>\n",
       "    </tr>\n",
       "    <tr>\n",
       "      <th>3</th>\n",
       "      <td>4</td>\n",
       "      <td>1405.52</td>\n",
       "      <td>1405.31</td>\n",
       "      <td>2115.70</td>\n",
       "      <td>1956.67</td>\n",
       "      <td>2097.84</td>\n",
       "      <td>2017.65</td>\n",
       "      <td>2117.72</td>\n",
       "      <td>2080.50</td>\n",
       "      <td>2116.44</td>\n",
       "      <td>...</td>\n",
       "      <td>1520.34</td>\n",
       "      <td>771.50</td>\n",
       "      <td>523.48</td>\n",
       "      <td>402.88</td>\n",
       "      <td>478.63</td>\n",
       "      <td>424.84</td>\n",
       "      <td>427.82</td>\n",
       "      <td>381.83</td>\n",
       "      <td>423.52</td>\n",
       "      <td>401.82</td>\n",
       "    </tr>\n",
       "    <tr>\n",
       "      <th>4</th>\n",
       "      <td>5</td>\n",
       "      <td>1439.75</td>\n",
       "      <td>1405.53</td>\n",
       "      <td>2133.93</td>\n",
       "      <td>1957.02</td>\n",
       "      <td>2104.22</td>\n",
       "      <td>2038.96</td>\n",
       "      <td>2121.15</td>\n",
       "      <td>2083.86</td>\n",
       "      <td>2126.60</td>\n",
       "      <td>...</td>\n",
       "      <td>1520.67</td>\n",
       "      <td>772.56</td>\n",
       "      <td>523.66</td>\n",
       "      <td>403.23</td>\n",
       "      <td>479.98</td>\n",
       "      <td>427.96</td>\n",
       "      <td>428.08</td>\n",
       "      <td>382.03</td>\n",
       "      <td>424.39</td>\n",
       "      <td>403.32</td>\n",
       "    </tr>\n",
       "  </tbody>\n",
       "</table>\n",
       "<p>5 rows × 32 columns</p>\n",
       "</div>"
      ],
      "text/plain": [
       "   runs      std       T1       T2       T3       T4       T5       T6  \\\n",
       "0     1  1408.83  1404.69  2015.74  1696.61  2046.63  1897.59  2070.27   \n",
       "1     2  1453.42  1405.06  2051.65  1917.21  2076.34  2014.81  2101.55   \n",
       "2     3  1408.01  1405.18  2100.43  1934.63  2083.95  2014.96  2112.30   \n",
       "3     4  1405.52  1405.31  2115.70  1956.67  2097.84  2017.65  2117.72   \n",
       "4     5  1439.75  1405.53  2133.93  1957.02  2104.22  2038.96  2121.15   \n",
       "\n",
       "        T7       T8  ...      MP1     MP2     MP3     MP4     MP5     MP6  \\\n",
       "0  2032.34  1990.65  ...  1516.23  766.56  522.70  402.07  475.59  408.02   \n",
       "1  2056.94  2072.35  ...  1517.11  767.23  522.95  402.31  476.32  412.11   \n",
       "2  2056.99  2089.52  ...  1518.46  770.42  523.47  402.51  477.89  415.52   \n",
       "3  2080.50  2116.44  ...  1520.34  771.50  523.48  402.88  478.63  424.84   \n",
       "4  2083.86  2126.60  ...  1520.67  772.56  523.66  403.23  479.98  427.96   \n",
       "\n",
       "      MP7     MP8     MP9    MP10  \n",
       "0  421.07  379.00  410.38  390.56  \n",
       "1  422.79  379.93  418.20  393.02  \n",
       "2  425.78  381.39  418.31  393.06  \n",
       "3  427.82  381.83  423.52  401.82  \n",
       "4  428.08  382.03  424.39  403.32  \n",
       "\n",
       "[5 rows x 32 columns]"
      ]
     },
     "execution_count": 5,
     "metadata": {},
     "output_type": "execute_result"
    }
   ],
   "source": [
    "data.head()"
   ]
  },
  {
   "cell_type": "markdown",
   "metadata": {},
   "source": [
    "# Standard vs Threading"
   ]
  },
  {
   "cell_type": "code",
   "execution_count": 6,
   "metadata": {},
   "outputs": [],
   "source": [
    "df = data.loc[:, 'std':'T10']"
   ]
  },
  {
   "cell_type": "code",
   "execution_count": 7,
   "metadata": {},
   "outputs": [
    {
     "data": {
      "image/png": "[encoded data removed]",
      "text/plain": [
       "<Figure size 792x576 with 1 Axes>"
      ]
     },
     "metadata": {},
     "output_type": "display_data"
    }
   ],
   "source": [
    "plt.subplots(figsize=figsize)\n",
    "sns.boxplot(data=df);"
   ]
  },
  {
   "cell_type": "markdown",
   "metadata": {},
   "source": [
    "# Standard vs AsyncIO"
   ]
  },
  {
   "cell_type": "code",
   "execution_count": 8,
   "metadata": {},
   "outputs": [],
   "source": [
    "columns = [ i for i in range(12,22) ]\n",
    "columns.insert(0, 1)\n",
    "df = data.iloc[:, columns]"
   ]
  },
  {
   "cell_type": "code",
   "execution_count": 9,
   "metadata": {},
   "outputs": [
    {
     "data": {
      "image/png": "[encoded data removed]",
      "text/plain": [
       "<Figure size 792x576 with 1 Axes>"
      ]
     },
     "metadata": {},
     "output_type": "display_data"
    }
   ],
   "source": [
    "plt.subplots(figsize=figsize)\n",
    "sns.boxplot(data=df);"
   ]
  },
  {
   "cell_type": "markdown",
   "metadata": {},
   "source": [
    "# Standard vs Multi-Process"
   ]
  },
  {
   "cell_type": "code",
   "execution_count": 10,
   "metadata": {},
   "outputs": [],
   "source": [
    "columns = [ i for i in range(22,32) ]\n",
    "columns.insert(0, 1)\n",
    "df = data.iloc[:, columns]"
   ]
  },
  {
   "cell_type": "code",
   "execution_count": 11,
   "metadata": {},
   "outputs": [
    {
     "data": {
      "image/png": "[encoded data removed]",
      "text/plain": [
       "<Figure size 792x576 with 1 Axes>"
      ]
     },
     "metadata": {},
     "output_type": "display_data"
    }
   ],
   "source": [
    "plt.subplots(figsize=figsize)\n",
    "sns.boxplot(data=df);"
   ]
  }
 ],
 "metadata": {
  "kernelspec": {
   "display_name": "Python 3",
   "language": "python",
   "name": "python3"
  },
  "language_info": {
   "codemirror_mode": {
    "name": "ipython",
    "version": 3
   },
   "file_extension": ".py",
   "mimetype": "text/x-python",
   "name": "python",
   "nbconvert_exporter": "python",
   "pygments_lexer": "ipython3",
   "version": "3.7.4"
  }
 },
 "nbformat": 4,
 "nbformat_minor": 4
}
